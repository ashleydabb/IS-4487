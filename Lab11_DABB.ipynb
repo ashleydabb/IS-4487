{
  "nbformat": 4,
  "nbformat_minor": 0,
  "metadata": {
    "colab": {
      "provenance": [],
      "include_colab_link": true
    },
    "kernelspec": {
      "name": "python3",
      "display_name": "Python 3"
    },
    "language_info": {
      "name": "python"
    }
  },
  "cells": [
    {
      "cell_type": "markdown",
      "metadata": {
        "id": "view-in-github",
        "colab_type": "text"
      },
      "source": [
        "<a href=\"https://colab.research.google.com/github/ashleydabb/IS-4487/blob/main/Lab11_DABB.ipynb\" target=\"_parent\"><img src=\"https://colab.research.google.com/assets/colab-badge.svg\" alt=\"Open In Colab\"/></a>"
      ]
    },
    {
      "cell_type": "markdown",
      "metadata": {
        "id": "p_Yu45OYdj3Y"
      },
      "source": [
        "# IS 4487 Module 5 Script\n",
        "\n",
        "## Objectives\n",
        "\n",
        "a. Understand model accuracy.  Why is it a performance metric for classification and not regression?\n",
        "    \n",
        "b. Calculate accuracy for a simple majority class model (this is the same as calculating the proportion of the majority class in a binary variable). Consider: x <- c(1, 1, 1, 0, 0).  What is the majority class? What is the proportion of the majority class in x?\n",
        "    \n",
        "c. Fit a tree model of the target with just one predictor variable and calculate the accuracy of this model.\n",
        "    \n",
        "d. Interpret a tree model, and calculate information gain.\n",
        "    \n",
        "e. Fit a tree model of the target using all the predictors, then:  create a visualization of the tree and identify the top 3 most important predictors in this model.\n",
        "    \n",
        "f. How do these models compare to majority class prediction?\n",
        "    \n",
        "g. How will you use a classification model as part of a solution to the AdviseInvest case?\n",
        "\n",
        "We will use the MegaTelCo data for this demonstration."
      ]
    },
    {
      "cell_type": "markdown",
      "metadata": {
        "id": "UE93RwXhgiJS"
      },
      "source": [
        "##Load Libraries\n",
        "\n",
        "In this class we will be using \n",
        "- Pandas\n",
        "- Scikitlearn\n",
        "- Matplotlib\n"
      ]
    },
    {
      "cell_type": "code",
      "metadata": {
        "id": "JYRZY5n0gfNe"
      },
      "source": [
        "import pandas as pd\n",
        "import matplotlib as mpl\n",
        "import numpy as np\n",
        "\n",
        "from sklearn.tree import DecisionTreeClassifier, export_graphviz # Import Decision Tree Classifier\n",
        "from sklearn.model_selection import train_test_split # Import train_test_split function\n",
        "from sklearn import metrics #Import scikit-learn metrics module for accuracy calculation\n",
        "from sklearn import tree\n"
      ],
      "execution_count": 1,
      "outputs": []
    },
    {
      "cell_type": "markdown",
      "metadata": {
        "id": "bREaXo8jfu-O"
      },
      "source": [
        "## Getting data into Pandas\n",
        "\n",
        "In this case we will load data from the statsmodels.org library\n",
        "\n",
        "See the Canvas assignments and lectures for a description of the Megatelco data\n",
        "\n",
        "**Note:** you will need to enter a code supplied by Google in the next step. \n"
      ]
    },
    {
      "cell_type": "code",
      "metadata": {
        "id": "6_FwprxVgR0e",
        "colab": {
          "base_uri": "https://localhost:8080/"
        },
        "outputId": "c53bc720-246b-492e-a572-6a5687a72cf4"
      },
      "source": [
        "from google.colab import drive \n",
        "drive.mount('/content/gdrive', force_remount=True)\n",
        "\n",
        "df = pd.read_csv (r'/content/gdrive/MyDrive/Colab Notebooks/daily_aqi_by_county_2021.csv')"
      ],
      "execution_count": 2,
      "outputs": [
        {
          "output_type": "stream",
          "name": "stdout",
          "text": [
            "Mounted at /content/gdrive\n"
          ]
        }
      ]
    },
    {
      "cell_type": "code",
      "metadata": {
        "id": "gSvao0dlhlNn",
        "colab": {
          "base_uri": "https://localhost:8080/",
          "height": 363
        },
        "outputId": "0d079395-d5fa-4c7e-b5c4-9d0284485961"
      },
      "source": [
        "#look at the top rows\n",
        "df.head(10) "
      ],
      "execution_count": 3,
      "outputs": [
        {
          "output_type": "execute_result",
          "data": {
            "text/plain": [
              "  State Name county Name  State Code  County Code        Date  AQI  Category  \\\n",
              "0    Alabama     Baldwin           1            3  2021-01-01   27      Good   \n",
              "1    Alabama     Baldwin           1            3  2021-01-04   47      Good   \n",
              "2    Alabama     Baldwin           1            3  2021-01-07   24      Good   \n",
              "3    Alabama     Baldwin           1            3  2021-01-10   39      Good   \n",
              "4    Alabama     Baldwin           1            3  2021-01-13   46      Good   \n",
              "5    Alabama     Baldwin           1            3  2021-01-16   21      Good   \n",
              "6    Alabama     Baldwin           1            3  2021-01-19   52  Moderate   \n",
              "7    Alabama     Baldwin           1            3  2021-01-22   11      Good   \n",
              "8    Alabama     Baldwin           1            3  2021-01-25   39      Good   \n",
              "9    Alabama     Baldwin           1            3  2021-01-28   22      Good   \n",
              "\n",
              "  Defining Parameter Defining Site  Number of Sites Reporting  \n",
              "0              PM2.5   01-003-0010                          1  \n",
              "1              PM2.5   01-003-0010                          1  \n",
              "2              PM2.5   01-003-0010                          1  \n",
              "3              PM2.5   01-003-0010                          1  \n",
              "4              PM2.5   01-003-0010                          1  \n",
              "5              PM2.5   01-003-0010                          1  \n",
              "6              PM2.5   01-003-0010                          1  \n",
              "7              PM2.5   01-003-0010                          1  \n",
              "8              PM2.5   01-003-0010                          1  \n",
              "9              PM2.5   01-003-0010                          1  "
            ],
            "text/html": [
              "\n",
              "  <div id=\"df-ac036fad-25da-4a5a-8971-3f734c6dc8d0\">\n",
              "    <div class=\"colab-df-container\">\n",
              "      <div>\n",
              "<style scoped>\n",
              "    .dataframe tbody tr th:only-of-type {\n",
              "        vertical-align: middle;\n",
              "    }\n",
              "\n",
              "    .dataframe tbody tr th {\n",
              "        vertical-align: top;\n",
              "    }\n",
              "\n",
              "    .dataframe thead th {\n",
              "        text-align: right;\n",
              "    }\n",
              "</style>\n",
              "<table border=\"1\" class=\"dataframe\">\n",
              "  <thead>\n",
              "    <tr style=\"text-align: right;\">\n",
              "      <th></th>\n",
              "      <th>State Name</th>\n",
              "      <th>county Name</th>\n",
              "      <th>State Code</th>\n",
              "      <th>County Code</th>\n",
              "      <th>Date</th>\n",
              "      <th>AQI</th>\n",
              "      <th>Category</th>\n",
              "      <th>Defining Parameter</th>\n",
              "      <th>Defining Site</th>\n",
              "      <th>Number of Sites Reporting</th>\n",
              "    </tr>\n",
              "  </thead>\n",
              "  <tbody>\n",
              "    <tr>\n",
              "      <th>0</th>\n",
              "      <td>Alabama</td>\n",
              "      <td>Baldwin</td>\n",
              "      <td>1</td>\n",
              "      <td>3</td>\n",
              "      <td>2021-01-01</td>\n",
              "      <td>27</td>\n",
              "      <td>Good</td>\n",
              "      <td>PM2.5</td>\n",
              "      <td>01-003-0010</td>\n",
              "      <td>1</td>\n",
              "    </tr>\n",
              "    <tr>\n",
              "      <th>1</th>\n",
              "      <td>Alabama</td>\n",
              "      <td>Baldwin</td>\n",
              "      <td>1</td>\n",
              "      <td>3</td>\n",
              "      <td>2021-01-04</td>\n",
              "      <td>47</td>\n",
              "      <td>Good</td>\n",
              "      <td>PM2.5</td>\n",
              "      <td>01-003-0010</td>\n",
              "      <td>1</td>\n",
              "    </tr>\n",
              "    <tr>\n",
              "      <th>2</th>\n",
              "      <td>Alabama</td>\n",
              "      <td>Baldwin</td>\n",
              "      <td>1</td>\n",
              "      <td>3</td>\n",
              "      <td>2021-01-07</td>\n",
              "      <td>24</td>\n",
              "      <td>Good</td>\n",
              "      <td>PM2.5</td>\n",
              "      <td>01-003-0010</td>\n",
              "      <td>1</td>\n",
              "    </tr>\n",
              "    <tr>\n",
              "      <th>3</th>\n",
              "      <td>Alabama</td>\n",
              "      <td>Baldwin</td>\n",
              "      <td>1</td>\n",
              "      <td>3</td>\n",
              "      <td>2021-01-10</td>\n",
              "      <td>39</td>\n",
              "      <td>Good</td>\n",
              "      <td>PM2.5</td>\n",
              "      <td>01-003-0010</td>\n",
              "      <td>1</td>\n",
              "    </tr>\n",
              "    <tr>\n",
              "      <th>4</th>\n",
              "      <td>Alabama</td>\n",
              "      <td>Baldwin</td>\n",
              "      <td>1</td>\n",
              "      <td>3</td>\n",
              "      <td>2021-01-13</td>\n",
              "      <td>46</td>\n",
              "      <td>Good</td>\n",
              "      <td>PM2.5</td>\n",
              "      <td>01-003-0010</td>\n",
              "      <td>1</td>\n",
              "    </tr>\n",
              "    <tr>\n",
              "      <th>5</th>\n",
              "      <td>Alabama</td>\n",
              "      <td>Baldwin</td>\n",
              "      <td>1</td>\n",
              "      <td>3</td>\n",
              "      <td>2021-01-16</td>\n",
              "      <td>21</td>\n",
              "      <td>Good</td>\n",
              "      <td>PM2.5</td>\n",
              "      <td>01-003-0010</td>\n",
              "      <td>1</td>\n",
              "    </tr>\n",
              "    <tr>\n",
              "      <th>6</th>\n",
              "      <td>Alabama</td>\n",
              "      <td>Baldwin</td>\n",
              "      <td>1</td>\n",
              "      <td>3</td>\n",
              "      <td>2021-01-19</td>\n",
              "      <td>52</td>\n",
              "      <td>Moderate</td>\n",
              "      <td>PM2.5</td>\n",
              "      <td>01-003-0010</td>\n",
              "      <td>1</td>\n",
              "    </tr>\n",
              "    <tr>\n",
              "      <th>7</th>\n",
              "      <td>Alabama</td>\n",
              "      <td>Baldwin</td>\n",
              "      <td>1</td>\n",
              "      <td>3</td>\n",
              "      <td>2021-01-22</td>\n",
              "      <td>11</td>\n",
              "      <td>Good</td>\n",
              "      <td>PM2.5</td>\n",
              "      <td>01-003-0010</td>\n",
              "      <td>1</td>\n",
              "    </tr>\n",
              "    <tr>\n",
              "      <th>8</th>\n",
              "      <td>Alabama</td>\n",
              "      <td>Baldwin</td>\n",
              "      <td>1</td>\n",
              "      <td>3</td>\n",
              "      <td>2021-01-25</td>\n",
              "      <td>39</td>\n",
              "      <td>Good</td>\n",
              "      <td>PM2.5</td>\n",
              "      <td>01-003-0010</td>\n",
              "      <td>1</td>\n",
              "    </tr>\n",
              "    <tr>\n",
              "      <th>9</th>\n",
              "      <td>Alabama</td>\n",
              "      <td>Baldwin</td>\n",
              "      <td>1</td>\n",
              "      <td>3</td>\n",
              "      <td>2021-01-28</td>\n",
              "      <td>22</td>\n",
              "      <td>Good</td>\n",
              "      <td>PM2.5</td>\n",
              "      <td>01-003-0010</td>\n",
              "      <td>1</td>\n",
              "    </tr>\n",
              "  </tbody>\n",
              "</table>\n",
              "</div>\n",
              "      <button class=\"colab-df-convert\" onclick=\"convertToInteractive('df-ac036fad-25da-4a5a-8971-3f734c6dc8d0')\"\n",
              "              title=\"Convert this dataframe to an interactive table.\"\n",
              "              style=\"display:none;\">\n",
              "        \n",
              "  <svg xmlns=\"http://www.w3.org/2000/svg\" height=\"24px\"viewBox=\"0 0 24 24\"\n",
              "       width=\"24px\">\n",
              "    <path d=\"M0 0h24v24H0V0z\" fill=\"none\"/>\n",
              "    <path d=\"M18.56 5.44l.94 2.06.94-2.06 2.06-.94-2.06-.94-.94-2.06-.94 2.06-2.06.94zm-11 1L8.5 8.5l.94-2.06 2.06-.94-2.06-.94L8.5 2.5l-.94 2.06-2.06.94zm10 10l.94 2.06.94-2.06 2.06-.94-2.06-.94-.94-2.06-.94 2.06-2.06.94z\"/><path d=\"M17.41 7.96l-1.37-1.37c-.4-.4-.92-.59-1.43-.59-.52 0-1.04.2-1.43.59L10.3 9.45l-7.72 7.72c-.78.78-.78 2.05 0 2.83L4 21.41c.39.39.9.59 1.41.59.51 0 1.02-.2 1.41-.59l7.78-7.78 2.81-2.81c.8-.78.8-2.07 0-2.86zM5.41 20L4 18.59l7.72-7.72 1.47 1.35L5.41 20z\"/>\n",
              "  </svg>\n",
              "      </button>\n",
              "      \n",
              "  <style>\n",
              "    .colab-df-container {\n",
              "      display:flex;\n",
              "      flex-wrap:wrap;\n",
              "      gap: 12px;\n",
              "    }\n",
              "\n",
              "    .colab-df-convert {\n",
              "      background-color: #E8F0FE;\n",
              "      border: none;\n",
              "      border-radius: 50%;\n",
              "      cursor: pointer;\n",
              "      display: none;\n",
              "      fill: #1967D2;\n",
              "      height: 32px;\n",
              "      padding: 0 0 0 0;\n",
              "      width: 32px;\n",
              "    }\n",
              "\n",
              "    .colab-df-convert:hover {\n",
              "      background-color: #E2EBFA;\n",
              "      box-shadow: 0px 1px 2px rgba(60, 64, 67, 0.3), 0px 1px 3px 1px rgba(60, 64, 67, 0.15);\n",
              "      fill: #174EA6;\n",
              "    }\n",
              "\n",
              "    [theme=dark] .colab-df-convert {\n",
              "      background-color: #3B4455;\n",
              "      fill: #D2E3FC;\n",
              "    }\n",
              "\n",
              "    [theme=dark] .colab-df-convert:hover {\n",
              "      background-color: #434B5C;\n",
              "      box-shadow: 0px 1px 3px 1px rgba(0, 0, 0, 0.15);\n",
              "      filter: drop-shadow(0px 1px 2px rgba(0, 0, 0, 0.3));\n",
              "      fill: #FFFFFF;\n",
              "    }\n",
              "  </style>\n",
              "\n",
              "      <script>\n",
              "        const buttonEl =\n",
              "          document.querySelector('#df-ac036fad-25da-4a5a-8971-3f734c6dc8d0 button.colab-df-convert');\n",
              "        buttonEl.style.display =\n",
              "          google.colab.kernel.accessAllowed ? 'block' : 'none';\n",
              "\n",
              "        async function convertToInteractive(key) {\n",
              "          const element = document.querySelector('#df-ac036fad-25da-4a5a-8971-3f734c6dc8d0');\n",
              "          const dataTable =\n",
              "            await google.colab.kernel.invokeFunction('convertToInteractive',\n",
              "                                                     [key], {});\n",
              "          if (!dataTable) return;\n",
              "\n",
              "          const docLinkHtml = 'Like what you see? Visit the ' +\n",
              "            '<a target=\"_blank\" href=https://colab.research.google.com/notebooks/data_table.ipynb>data table notebook</a>'\n",
              "            + ' to learn more about interactive tables.';\n",
              "          element.innerHTML = '';\n",
              "          dataTable['output_type'] = 'display_data';\n",
              "          await google.colab.output.renderOutput(dataTable, element);\n",
              "          const docLink = document.createElement('div');\n",
              "          docLink.innerHTML = docLinkHtml;\n",
              "          element.appendChild(docLink);\n",
              "        }\n",
              "      </script>\n",
              "    </div>\n",
              "  </div>\n",
              "  "
            ]
          },
          "metadata": {},
          "execution_count": 3
        }
      ]
    },
    {
      "cell_type": "code",
      "metadata": {
        "id": "AK7y336xJ3-6",
        "colab": {
          "base_uri": "https://localhost:8080/"
        },
        "outputId": "8271ad51-4034-456a-aa24-cc68d64567b0"
      },
      "source": [
        "#look at the datatypes\n",
        "df.info()"
      ],
      "execution_count": 4,
      "outputs": [
        {
          "output_type": "stream",
          "name": "stdout",
          "text": [
            "<class 'pandas.core.frame.DataFrame'>\n",
            "RangeIndex: 218196 entries, 0 to 218195\n",
            "Data columns (total 10 columns):\n",
            " #   Column                     Non-Null Count   Dtype \n",
            "---  ------                     --------------   ----- \n",
            " 0   State Name                 218196 non-null  object\n",
            " 1   county Name                218196 non-null  object\n",
            " 2   State Code                 218196 non-null  int64 \n",
            " 3   County Code                218196 non-null  int64 \n",
            " 4   Date                       218196 non-null  object\n",
            " 5   AQI                        218196 non-null  int64 \n",
            " 6   Category                   218196 non-null  object\n",
            " 7   Defining Parameter         218196 non-null  object\n",
            " 8   Defining Site              218196 non-null  object\n",
            " 9   Number of Sites Reporting  218196 non-null  int64 \n",
            "dtypes: int64(4), object(6)\n",
            "memory usage: 16.6+ MB\n"
          ]
        }
      ]
    },
    {
      "cell_type": "code",
      "metadata": {
        "id": "udYgkb6I3SJo",
        "colab": {
          "base_uri": "https://localhost:8080/",
          "height": 300
        },
        "outputId": "574d60df-d0ab-482b-801e-a25366107fb8"
      },
      "source": [
        "#describe the data before cleaning it\n",
        "df.describe()"
      ],
      "execution_count": 5,
      "outputs": [
        {
          "output_type": "execute_result",
          "data": {
            "text/plain": [
              "          State Code    County Code            AQI  Number of Sites Reporting\n",
              "count  218196.000000  218196.000000  218196.000000              218196.000000\n",
              "mean       30.178390      82.098265      39.584250                   1.924220\n",
              "std        15.755914      89.555906      21.547055                   2.251967\n",
              "min         1.000000       1.000000       0.000000                   1.000000\n",
              "25%        18.000000      25.000000      29.000000                   1.000000\n",
              "50%        30.000000      61.000000      38.000000                   1.000000\n",
              "75%        42.000000     111.000000      47.000000                   2.000000\n",
              "max        80.000000     810.000000    2723.000000                  34.000000"
            ],
            "text/html": [
              "\n",
              "  <div id=\"df-18957ac4-347b-496c-aa9d-3bf1bd4d48ac\">\n",
              "    <div class=\"colab-df-container\">\n",
              "      <div>\n",
              "<style scoped>\n",
              "    .dataframe tbody tr th:only-of-type {\n",
              "        vertical-align: middle;\n",
              "    }\n",
              "\n",
              "    .dataframe tbody tr th {\n",
              "        vertical-align: top;\n",
              "    }\n",
              "\n",
              "    .dataframe thead th {\n",
              "        text-align: right;\n",
              "    }\n",
              "</style>\n",
              "<table border=\"1\" class=\"dataframe\">\n",
              "  <thead>\n",
              "    <tr style=\"text-align: right;\">\n",
              "      <th></th>\n",
              "      <th>State Code</th>\n",
              "      <th>County Code</th>\n",
              "      <th>AQI</th>\n",
              "      <th>Number of Sites Reporting</th>\n",
              "    </tr>\n",
              "  </thead>\n",
              "  <tbody>\n",
              "    <tr>\n",
              "      <th>count</th>\n",
              "      <td>218196.000000</td>\n",
              "      <td>218196.000000</td>\n",
              "      <td>218196.000000</td>\n",
              "      <td>218196.000000</td>\n",
              "    </tr>\n",
              "    <tr>\n",
              "      <th>mean</th>\n",
              "      <td>30.178390</td>\n",
              "      <td>82.098265</td>\n",
              "      <td>39.584250</td>\n",
              "      <td>1.924220</td>\n",
              "    </tr>\n",
              "    <tr>\n",
              "      <th>std</th>\n",
              "      <td>15.755914</td>\n",
              "      <td>89.555906</td>\n",
              "      <td>21.547055</td>\n",
              "      <td>2.251967</td>\n",
              "    </tr>\n",
              "    <tr>\n",
              "      <th>min</th>\n",
              "      <td>1.000000</td>\n",
              "      <td>1.000000</td>\n",
              "      <td>0.000000</td>\n",
              "      <td>1.000000</td>\n",
              "    </tr>\n",
              "    <tr>\n",
              "      <th>25%</th>\n",
              "      <td>18.000000</td>\n",
              "      <td>25.000000</td>\n",
              "      <td>29.000000</td>\n",
              "      <td>1.000000</td>\n",
              "    </tr>\n",
              "    <tr>\n",
              "      <th>50%</th>\n",
              "      <td>30.000000</td>\n",
              "      <td>61.000000</td>\n",
              "      <td>38.000000</td>\n",
              "      <td>1.000000</td>\n",
              "    </tr>\n",
              "    <tr>\n",
              "      <th>75%</th>\n",
              "      <td>42.000000</td>\n",
              "      <td>111.000000</td>\n",
              "      <td>47.000000</td>\n",
              "      <td>2.000000</td>\n",
              "    </tr>\n",
              "    <tr>\n",
              "      <th>max</th>\n",
              "      <td>80.000000</td>\n",
              "      <td>810.000000</td>\n",
              "      <td>2723.000000</td>\n",
              "      <td>34.000000</td>\n",
              "    </tr>\n",
              "  </tbody>\n",
              "</table>\n",
              "</div>\n",
              "      <button class=\"colab-df-convert\" onclick=\"convertToInteractive('df-18957ac4-347b-496c-aa9d-3bf1bd4d48ac')\"\n",
              "              title=\"Convert this dataframe to an interactive table.\"\n",
              "              style=\"display:none;\">\n",
              "        \n",
              "  <svg xmlns=\"http://www.w3.org/2000/svg\" height=\"24px\"viewBox=\"0 0 24 24\"\n",
              "       width=\"24px\">\n",
              "    <path d=\"M0 0h24v24H0V0z\" fill=\"none\"/>\n",
              "    <path d=\"M18.56 5.44l.94 2.06.94-2.06 2.06-.94-2.06-.94-.94-2.06-.94 2.06-2.06.94zm-11 1L8.5 8.5l.94-2.06 2.06-.94-2.06-.94L8.5 2.5l-.94 2.06-2.06.94zm10 10l.94 2.06.94-2.06 2.06-.94-2.06-.94-.94-2.06-.94 2.06-2.06.94z\"/><path d=\"M17.41 7.96l-1.37-1.37c-.4-.4-.92-.59-1.43-.59-.52 0-1.04.2-1.43.59L10.3 9.45l-7.72 7.72c-.78.78-.78 2.05 0 2.83L4 21.41c.39.39.9.59 1.41.59.51 0 1.02-.2 1.41-.59l7.78-7.78 2.81-2.81c.8-.78.8-2.07 0-2.86zM5.41 20L4 18.59l7.72-7.72 1.47 1.35L5.41 20z\"/>\n",
              "  </svg>\n",
              "      </button>\n",
              "      \n",
              "  <style>\n",
              "    .colab-df-container {\n",
              "      display:flex;\n",
              "      flex-wrap:wrap;\n",
              "      gap: 12px;\n",
              "    }\n",
              "\n",
              "    .colab-df-convert {\n",
              "      background-color: #E8F0FE;\n",
              "      border: none;\n",
              "      border-radius: 50%;\n",
              "      cursor: pointer;\n",
              "      display: none;\n",
              "      fill: #1967D2;\n",
              "      height: 32px;\n",
              "      padding: 0 0 0 0;\n",
              "      width: 32px;\n",
              "    }\n",
              "\n",
              "    .colab-df-convert:hover {\n",
              "      background-color: #E2EBFA;\n",
              "      box-shadow: 0px 1px 2px rgba(60, 64, 67, 0.3), 0px 1px 3px 1px rgba(60, 64, 67, 0.15);\n",
              "      fill: #174EA6;\n",
              "    }\n",
              "\n",
              "    [theme=dark] .colab-df-convert {\n",
              "      background-color: #3B4455;\n",
              "      fill: #D2E3FC;\n",
              "    }\n",
              "\n",
              "    [theme=dark] .colab-df-convert:hover {\n",
              "      background-color: #434B5C;\n",
              "      box-shadow: 0px 1px 3px 1px rgba(0, 0, 0, 0.15);\n",
              "      filter: drop-shadow(0px 1px 2px rgba(0, 0, 0, 0.3));\n",
              "      fill: #FFFFFF;\n",
              "    }\n",
              "  </style>\n",
              "\n",
              "      <script>\n",
              "        const buttonEl =\n",
              "          document.querySelector('#df-18957ac4-347b-496c-aa9d-3bf1bd4d48ac button.colab-df-convert');\n",
              "        buttonEl.style.display =\n",
              "          google.colab.kernel.accessAllowed ? 'block' : 'none';\n",
              "\n",
              "        async function convertToInteractive(key) {\n",
              "          const element = document.querySelector('#df-18957ac4-347b-496c-aa9d-3bf1bd4d48ac');\n",
              "          const dataTable =\n",
              "            await google.colab.kernel.invokeFunction('convertToInteractive',\n",
              "                                                     [key], {});\n",
              "          if (!dataTable) return;\n",
              "\n",
              "          const docLinkHtml = 'Like what you see? Visit the ' +\n",
              "            '<a target=\"_blank\" href=https://colab.research.google.com/notebooks/data_table.ipynb>data table notebook</a>'\n",
              "            + ' to learn more about interactive tables.';\n",
              "          element.innerHTML = '';\n",
              "          dataTable['output_type'] = 'display_data';\n",
              "          await google.colab.output.renderOutput(dataTable, element);\n",
              "          const docLink = document.createElement('div');\n",
              "          docLink.innerHTML = docLinkHtml;\n",
              "          element.appendChild(docLink);\n",
              "        }\n",
              "      </script>\n",
              "    </div>\n",
              "  </div>\n",
              "  "
            ]
          },
          "metadata": {},
          "execution_count": 5
        }
      ]
    },
    {
      "cell_type": "markdown",
      "metadata": {
        "id": "BtxOWvFlKzgE"
      },
      "source": [
        "## Clean up the data\n",
        "Did you notice anything unusual about the \"house\" amounts? \n",
        "\n",
        "How about the handset price and income?\n",
        "\n",
        "Clean up the data in a  new datafram named \"df_clean\"\n"
      ]
    },
    {
      "cell_type": "code",
      "metadata": {
        "id": "7KXLvMcBK8Za",
        "colab": {
          "base_uri": "https://localhost:8080/",
          "height": 300
        },
        "outputId": "63681f36-433a-4f12-a85b-909149482159"
      },
      "source": [
        "#delete rows with outlier data; put it in a new dataframe\n",
        "df_clean = df[df['county Name'] == 'Salt Lake']\n",
        "\n",
        "#delete any rows with missing values in the clean dataframe\n",
        "df_clean = df_clean.dropna() \n",
        "\n",
        "df_clean.describe()"
      ],
      "execution_count": 6,
      "outputs": [
        {
          "output_type": "execute_result",
          "data": {
            "text/plain": [
              "       State Code  County Code         AQI  Number of Sites Reporting\n",
              "count       305.0        305.0  305.000000                 305.000000\n",
              "mean         49.0         35.0   66.406557                   7.767213\n",
              "std           0.0          0.0   31.386470                   0.460521\n",
              "min          49.0         35.0    6.000000                   5.000000\n",
              "25%          49.0         35.0   44.000000                   8.000000\n",
              "50%          49.0         35.0   54.000000                   8.000000\n",
              "75%          49.0         35.0   84.000000                   8.000000\n",
              "max          49.0         35.0  177.000000                   8.000000"
            ],
            "text/html": [
              "\n",
              "  <div id=\"df-de82e542-c15c-49bc-b28a-9588c394753e\">\n",
              "    <div class=\"colab-df-container\">\n",
              "      <div>\n",
              "<style scoped>\n",
              "    .dataframe tbody tr th:only-of-type {\n",
              "        vertical-align: middle;\n",
              "    }\n",
              "\n",
              "    .dataframe tbody tr th {\n",
              "        vertical-align: top;\n",
              "    }\n",
              "\n",
              "    .dataframe thead th {\n",
              "        text-align: right;\n",
              "    }\n",
              "</style>\n",
              "<table border=\"1\" class=\"dataframe\">\n",
              "  <thead>\n",
              "    <tr style=\"text-align: right;\">\n",
              "      <th></th>\n",
              "      <th>State Code</th>\n",
              "      <th>County Code</th>\n",
              "      <th>AQI</th>\n",
              "      <th>Number of Sites Reporting</th>\n",
              "    </tr>\n",
              "  </thead>\n",
              "  <tbody>\n",
              "    <tr>\n",
              "      <th>count</th>\n",
              "      <td>305.0</td>\n",
              "      <td>305.0</td>\n",
              "      <td>305.000000</td>\n",
              "      <td>305.000000</td>\n",
              "    </tr>\n",
              "    <tr>\n",
              "      <th>mean</th>\n",
              "      <td>49.0</td>\n",
              "      <td>35.0</td>\n",
              "      <td>66.406557</td>\n",
              "      <td>7.767213</td>\n",
              "    </tr>\n",
              "    <tr>\n",
              "      <th>std</th>\n",
              "      <td>0.0</td>\n",
              "      <td>0.0</td>\n",
              "      <td>31.386470</td>\n",
              "      <td>0.460521</td>\n",
              "    </tr>\n",
              "    <tr>\n",
              "      <th>min</th>\n",
              "      <td>49.0</td>\n",
              "      <td>35.0</td>\n",
              "      <td>6.000000</td>\n",
              "      <td>5.000000</td>\n",
              "    </tr>\n",
              "    <tr>\n",
              "      <th>25%</th>\n",
              "      <td>49.0</td>\n",
              "      <td>35.0</td>\n",
              "      <td>44.000000</td>\n",
              "      <td>8.000000</td>\n",
              "    </tr>\n",
              "    <tr>\n",
              "      <th>50%</th>\n",
              "      <td>49.0</td>\n",
              "      <td>35.0</td>\n",
              "      <td>54.000000</td>\n",
              "      <td>8.000000</td>\n",
              "    </tr>\n",
              "    <tr>\n",
              "      <th>75%</th>\n",
              "      <td>49.0</td>\n",
              "      <td>35.0</td>\n",
              "      <td>84.000000</td>\n",
              "      <td>8.000000</td>\n",
              "    </tr>\n",
              "    <tr>\n",
              "      <th>max</th>\n",
              "      <td>49.0</td>\n",
              "      <td>35.0</td>\n",
              "      <td>177.000000</td>\n",
              "      <td>8.000000</td>\n",
              "    </tr>\n",
              "  </tbody>\n",
              "</table>\n",
              "</div>\n",
              "      <button class=\"colab-df-convert\" onclick=\"convertToInteractive('df-de82e542-c15c-49bc-b28a-9588c394753e')\"\n",
              "              title=\"Convert this dataframe to an interactive table.\"\n",
              "              style=\"display:none;\">\n",
              "        \n",
              "  <svg xmlns=\"http://www.w3.org/2000/svg\" height=\"24px\"viewBox=\"0 0 24 24\"\n",
              "       width=\"24px\">\n",
              "    <path d=\"M0 0h24v24H0V0z\" fill=\"none\"/>\n",
              "    <path d=\"M18.56 5.44l.94 2.06.94-2.06 2.06-.94-2.06-.94-.94-2.06-.94 2.06-2.06.94zm-11 1L8.5 8.5l.94-2.06 2.06-.94-2.06-.94L8.5 2.5l-.94 2.06-2.06.94zm10 10l.94 2.06.94-2.06 2.06-.94-2.06-.94-.94-2.06-.94 2.06-2.06.94z\"/><path d=\"M17.41 7.96l-1.37-1.37c-.4-.4-.92-.59-1.43-.59-.52 0-1.04.2-1.43.59L10.3 9.45l-7.72 7.72c-.78.78-.78 2.05 0 2.83L4 21.41c.39.39.9.59 1.41.59.51 0 1.02-.2 1.41-.59l7.78-7.78 2.81-2.81c.8-.78.8-2.07 0-2.86zM5.41 20L4 18.59l7.72-7.72 1.47 1.35L5.41 20z\"/>\n",
              "  </svg>\n",
              "      </button>\n",
              "      \n",
              "  <style>\n",
              "    .colab-df-container {\n",
              "      display:flex;\n",
              "      flex-wrap:wrap;\n",
              "      gap: 12px;\n",
              "    }\n",
              "\n",
              "    .colab-df-convert {\n",
              "      background-color: #E8F0FE;\n",
              "      border: none;\n",
              "      border-radius: 50%;\n",
              "      cursor: pointer;\n",
              "      display: none;\n",
              "      fill: #1967D2;\n",
              "      height: 32px;\n",
              "      padding: 0 0 0 0;\n",
              "      width: 32px;\n",
              "    }\n",
              "\n",
              "    .colab-df-convert:hover {\n",
              "      background-color: #E2EBFA;\n",
              "      box-shadow: 0px 1px 2px rgba(60, 64, 67, 0.3), 0px 1px 3px 1px rgba(60, 64, 67, 0.15);\n",
              "      fill: #174EA6;\n",
              "    }\n",
              "\n",
              "    [theme=dark] .colab-df-convert {\n",
              "      background-color: #3B4455;\n",
              "      fill: #D2E3FC;\n",
              "    }\n",
              "\n",
              "    [theme=dark] .colab-df-convert:hover {\n",
              "      background-color: #434B5C;\n",
              "      box-shadow: 0px 1px 3px 1px rgba(0, 0, 0, 0.15);\n",
              "      filter: drop-shadow(0px 1px 2px rgba(0, 0, 0, 0.3));\n",
              "      fill: #FFFFFF;\n",
              "    }\n",
              "  </style>\n",
              "\n",
              "      <script>\n",
              "        const buttonEl =\n",
              "          document.querySelector('#df-de82e542-c15c-49bc-b28a-9588c394753e button.colab-df-convert');\n",
              "        buttonEl.style.display =\n",
              "          google.colab.kernel.accessAllowed ? 'block' : 'none';\n",
              "\n",
              "        async function convertToInteractive(key) {\n",
              "          const element = document.querySelector('#df-de82e542-c15c-49bc-b28a-9588c394753e');\n",
              "          const dataTable =\n",
              "            await google.colab.kernel.invokeFunction('convertToInteractive',\n",
              "                                                     [key], {});\n",
              "          if (!dataTable) return;\n",
              "\n",
              "          const docLinkHtml = 'Like what you see? Visit the ' +\n",
              "            '<a target=\"_blank\" href=https://colab.research.google.com/notebooks/data_table.ipynb>data table notebook</a>'\n",
              "            + ' to learn more about interactive tables.';\n",
              "          element.innerHTML = '';\n",
              "          dataTable['output_type'] = 'display_data';\n",
              "          await google.colab.output.renderOutput(dataTable, element);\n",
              "          const docLink = document.createElement('div');\n",
              "          docLink.innerHTML = docLinkHtml;\n",
              "          element.appendChild(docLink);\n",
              "        }\n",
              "      </script>\n",
              "    </div>\n",
              "  </div>\n",
              "  "
            ]
          },
          "metadata": {},
          "execution_count": 6
        }
      ]
    },
    {
      "cell_type": "code",
      "source": [
        "#Converting parameters to T/F\n",
        "#PM2.5\n",
        "df_clean['PM2.5_Parameter'] = np.where(df_clean['Defining Parameter'] == 'PM2.5', 1, 0)\n",
        "#NO2\n",
        "df_clean['NO2_Parameter'] = np.where(df_clean['Defining Parameter'] == 'NO2', 1, 0)\n",
        "#ozone\n",
        "df_clean['Ozone_Parameter'] = np.where(df_clean['Defining Parameter'] == 'Ozone', 1, 0)\n",
        "#PM10\n",
        "df_clean['PM10_Parameter'] = np.where(df_clean['Defining Parameter'] == 'PM10', 1, 0)\n",
        "#CO\n",
        "df_clean['CO_Parameter'] = np.where(df_clean['Defining Parameter'] == 'CO', 1, 0)\n",
        "\n",
        "df_clean.head()"
      ],
      "metadata": {
        "colab": {
          "base_uri": "https://localhost:8080/",
          "height": 371
        },
        "id": "ZNauOtUSZmYL",
        "outputId": "a424ee87-a746-4b8c-853b-3f301d0cd030"
      },
      "execution_count": 7,
      "outputs": [
        {
          "output_type": "execute_result",
          "data": {
            "text/plain": [
              "       State Name county Name  State Code  County Code        Date  AQI  \\\n",
              "193138       Utah   Salt Lake          49           35  2021-01-01   70   \n",
              "193139       Utah   Salt Lake          49           35  2021-01-02   48   \n",
              "193140       Utah   Salt Lake          49           35  2021-01-03   51   \n",
              "193141       Utah   Salt Lake          49           35  2021-01-04   52   \n",
              "193142       Utah   Salt Lake          49           35  2021-01-05   37   \n",
              "\n",
              "        Category Defining Parameter Defining Site  Number of Sites Reporting  \\\n",
              "193138  Moderate              PM2.5   49-035-4002                          7   \n",
              "193139      Good              PM2.5   49-035-3015                          7   \n",
              "193140  Moderate              PM2.5   49-035-3015                          7   \n",
              "193141  Moderate              PM2.5   49-035-4002                          7   \n",
              "193142      Good                NO2   49-035-2005                          7   \n",
              "\n",
              "        PM2.5_Parameter  NO2_Parameter  Ozone_Parameter  PM10_Parameter  \\\n",
              "193138                1              0                0               0   \n",
              "193139                1              0                0               0   \n",
              "193140                1              0                0               0   \n",
              "193141                1              0                0               0   \n",
              "193142                0              1                0               0   \n",
              "\n",
              "        CO_Parameter  \n",
              "193138             0  \n",
              "193139             0  \n",
              "193140             0  \n",
              "193141             0  \n",
              "193142             0  "
            ],
            "text/html": [
              "\n",
              "  <div id=\"df-4829fc13-eefa-45ac-ba07-60da6a17071f\">\n",
              "    <div class=\"colab-df-container\">\n",
              "      <div>\n",
              "<style scoped>\n",
              "    .dataframe tbody tr th:only-of-type {\n",
              "        vertical-align: middle;\n",
              "    }\n",
              "\n",
              "    .dataframe tbody tr th {\n",
              "        vertical-align: top;\n",
              "    }\n",
              "\n",
              "    .dataframe thead th {\n",
              "        text-align: right;\n",
              "    }\n",
              "</style>\n",
              "<table border=\"1\" class=\"dataframe\">\n",
              "  <thead>\n",
              "    <tr style=\"text-align: right;\">\n",
              "      <th></th>\n",
              "      <th>State Name</th>\n",
              "      <th>county Name</th>\n",
              "      <th>State Code</th>\n",
              "      <th>County Code</th>\n",
              "      <th>Date</th>\n",
              "      <th>AQI</th>\n",
              "      <th>Category</th>\n",
              "      <th>Defining Parameter</th>\n",
              "      <th>Defining Site</th>\n",
              "      <th>Number of Sites Reporting</th>\n",
              "      <th>PM2.5_Parameter</th>\n",
              "      <th>NO2_Parameter</th>\n",
              "      <th>Ozone_Parameter</th>\n",
              "      <th>PM10_Parameter</th>\n",
              "      <th>CO_Parameter</th>\n",
              "    </tr>\n",
              "  </thead>\n",
              "  <tbody>\n",
              "    <tr>\n",
              "      <th>193138</th>\n",
              "      <td>Utah</td>\n",
              "      <td>Salt Lake</td>\n",
              "      <td>49</td>\n",
              "      <td>35</td>\n",
              "      <td>2021-01-01</td>\n",
              "      <td>70</td>\n",
              "      <td>Moderate</td>\n",
              "      <td>PM2.5</td>\n",
              "      <td>49-035-4002</td>\n",
              "      <td>7</td>\n",
              "      <td>1</td>\n",
              "      <td>0</td>\n",
              "      <td>0</td>\n",
              "      <td>0</td>\n",
              "      <td>0</td>\n",
              "    </tr>\n",
              "    <tr>\n",
              "      <th>193139</th>\n",
              "      <td>Utah</td>\n",
              "      <td>Salt Lake</td>\n",
              "      <td>49</td>\n",
              "      <td>35</td>\n",
              "      <td>2021-01-02</td>\n",
              "      <td>48</td>\n",
              "      <td>Good</td>\n",
              "      <td>PM2.5</td>\n",
              "      <td>49-035-3015</td>\n",
              "      <td>7</td>\n",
              "      <td>1</td>\n",
              "      <td>0</td>\n",
              "      <td>0</td>\n",
              "      <td>0</td>\n",
              "      <td>0</td>\n",
              "    </tr>\n",
              "    <tr>\n",
              "      <th>193140</th>\n",
              "      <td>Utah</td>\n",
              "      <td>Salt Lake</td>\n",
              "      <td>49</td>\n",
              "      <td>35</td>\n",
              "      <td>2021-01-03</td>\n",
              "      <td>51</td>\n",
              "      <td>Moderate</td>\n",
              "      <td>PM2.5</td>\n",
              "      <td>49-035-3015</td>\n",
              "      <td>7</td>\n",
              "      <td>1</td>\n",
              "      <td>0</td>\n",
              "      <td>0</td>\n",
              "      <td>0</td>\n",
              "      <td>0</td>\n",
              "    </tr>\n",
              "    <tr>\n",
              "      <th>193141</th>\n",
              "      <td>Utah</td>\n",
              "      <td>Salt Lake</td>\n",
              "      <td>49</td>\n",
              "      <td>35</td>\n",
              "      <td>2021-01-04</td>\n",
              "      <td>52</td>\n",
              "      <td>Moderate</td>\n",
              "      <td>PM2.5</td>\n",
              "      <td>49-035-4002</td>\n",
              "      <td>7</td>\n",
              "      <td>1</td>\n",
              "      <td>0</td>\n",
              "      <td>0</td>\n",
              "      <td>0</td>\n",
              "      <td>0</td>\n",
              "    </tr>\n",
              "    <tr>\n",
              "      <th>193142</th>\n",
              "      <td>Utah</td>\n",
              "      <td>Salt Lake</td>\n",
              "      <td>49</td>\n",
              "      <td>35</td>\n",
              "      <td>2021-01-05</td>\n",
              "      <td>37</td>\n",
              "      <td>Good</td>\n",
              "      <td>NO2</td>\n",
              "      <td>49-035-2005</td>\n",
              "      <td>7</td>\n",
              "      <td>0</td>\n",
              "      <td>1</td>\n",
              "      <td>0</td>\n",
              "      <td>0</td>\n",
              "      <td>0</td>\n",
              "    </tr>\n",
              "  </tbody>\n",
              "</table>\n",
              "</div>\n",
              "      <button class=\"colab-df-convert\" onclick=\"convertToInteractive('df-4829fc13-eefa-45ac-ba07-60da6a17071f')\"\n",
              "              title=\"Convert this dataframe to an interactive table.\"\n",
              "              style=\"display:none;\">\n",
              "        \n",
              "  <svg xmlns=\"http://www.w3.org/2000/svg\" height=\"24px\"viewBox=\"0 0 24 24\"\n",
              "       width=\"24px\">\n",
              "    <path d=\"M0 0h24v24H0V0z\" fill=\"none\"/>\n",
              "    <path d=\"M18.56 5.44l.94 2.06.94-2.06 2.06-.94-2.06-.94-.94-2.06-.94 2.06-2.06.94zm-11 1L8.5 8.5l.94-2.06 2.06-.94-2.06-.94L8.5 2.5l-.94 2.06-2.06.94zm10 10l.94 2.06.94-2.06 2.06-.94-2.06-.94-.94-2.06-.94 2.06-2.06.94z\"/><path d=\"M17.41 7.96l-1.37-1.37c-.4-.4-.92-.59-1.43-.59-.52 0-1.04.2-1.43.59L10.3 9.45l-7.72 7.72c-.78.78-.78 2.05 0 2.83L4 21.41c.39.39.9.59 1.41.59.51 0 1.02-.2 1.41-.59l7.78-7.78 2.81-2.81c.8-.78.8-2.07 0-2.86zM5.41 20L4 18.59l7.72-7.72 1.47 1.35L5.41 20z\"/>\n",
              "  </svg>\n",
              "      </button>\n",
              "      \n",
              "  <style>\n",
              "    .colab-df-container {\n",
              "      display:flex;\n",
              "      flex-wrap:wrap;\n",
              "      gap: 12px;\n",
              "    }\n",
              "\n",
              "    .colab-df-convert {\n",
              "      background-color: #E8F0FE;\n",
              "      border: none;\n",
              "      border-radius: 50%;\n",
              "      cursor: pointer;\n",
              "      display: none;\n",
              "      fill: #1967D2;\n",
              "      height: 32px;\n",
              "      padding: 0 0 0 0;\n",
              "      width: 32px;\n",
              "    }\n",
              "\n",
              "    .colab-df-convert:hover {\n",
              "      background-color: #E2EBFA;\n",
              "      box-shadow: 0px 1px 2px rgba(60, 64, 67, 0.3), 0px 1px 3px 1px rgba(60, 64, 67, 0.15);\n",
              "      fill: #174EA6;\n",
              "    }\n",
              "\n",
              "    [theme=dark] .colab-df-convert {\n",
              "      background-color: #3B4455;\n",
              "      fill: #D2E3FC;\n",
              "    }\n",
              "\n",
              "    [theme=dark] .colab-df-convert:hover {\n",
              "      background-color: #434B5C;\n",
              "      box-shadow: 0px 1px 3px 1px rgba(0, 0, 0, 0.15);\n",
              "      filter: drop-shadow(0px 1px 2px rgba(0, 0, 0, 0.3));\n",
              "      fill: #FFFFFF;\n",
              "    }\n",
              "  </style>\n",
              "\n",
              "      <script>\n",
              "        const buttonEl =\n",
              "          document.querySelector('#df-4829fc13-eefa-45ac-ba07-60da6a17071f button.colab-df-convert');\n",
              "        buttonEl.style.display =\n",
              "          google.colab.kernel.accessAllowed ? 'block' : 'none';\n",
              "\n",
              "        async function convertToInteractive(key) {\n",
              "          const element = document.querySelector('#df-4829fc13-eefa-45ac-ba07-60da6a17071f');\n",
              "          const dataTable =\n",
              "            await google.colab.kernel.invokeFunction('convertToInteractive',\n",
              "                                                     [key], {});\n",
              "          if (!dataTable) return;\n",
              "\n",
              "          const docLinkHtml = 'Like what you see? Visit the ' +\n",
              "            '<a target=\"_blank\" href=https://colab.research.google.com/notebooks/data_table.ipynb>data table notebook</a>'\n",
              "            + ' to learn more about interactive tables.';\n",
              "          element.innerHTML = '';\n",
              "          dataTable['output_type'] = 'display_data';\n",
              "          await google.colab.output.renderOutput(dataTable, element);\n",
              "          const docLink = document.createElement('div');\n",
              "          docLink.innerHTML = docLinkHtml;\n",
              "          element.appendChild(docLink);\n",
              "        }\n",
              "      </script>\n",
              "    </div>\n",
              "  </div>\n",
              "  "
            ]
          },
          "metadata": {},
          "execution_count": 7
        }
      ]
    },
    {
      "cell_type": "markdown",
      "metadata": {
        "id": "AuB0G9gJt7gn"
      },
      "source": [
        "# Convert attributes to factors\n",
        "\n",
        "- Leave\n",
        "- College\n",
        "- Reported satisfaction\n",
        "- Reported usage level\n",
        "- Considering change of plan"
      ]
    },
    {
      "cell_type": "markdown",
      "metadata": {
        "id": "SoJLJMlceORN"
      },
      "source": [
        "## Fit a basic tree model\n",
        "\n",
        "Use just two variables, 'income' and 'house'. We'll call this the \"money tree.\" \n",
        "\n",
        "What is the accuracy of the money tree? "
      ]
    },
    {
      "cell_type": "code",
      "metadata": {
        "id": "WBH7aRXbOUf4"
      },
      "source": [
        "# split the datafram into independent (x) and dependent (predicted) attributes (y)\n",
        "x = df_clean[['AQI','County Code', 'PM2.5_Parameter', 'NO2_Parameter', 'Ozone_Parameter', 'PM10_Parameter', 'CO_Parameter']]\n",
        "y = df_clean['Category']\n",
        "\n",
        "AQI_model = DecisionTreeClassifier()\n",
        "\n",
        "# Create Decision Tree Classifer\n",
        "AQI_model = AQI_model.fit(x,y)\n"
      ],
      "execution_count": 8,
      "outputs": []
    },
    {
      "cell_type": "markdown",
      "source": [
        "## Preview the tree\n"
      ],
      "metadata": {
        "id": "x5n0jUSL8Nde"
      }
    },
    {
      "cell_type": "code",
      "source": [
        "AQI_model_text = tree.export_text(AQI_model)\n",
        "print(AQI_model_text)"
      ],
      "metadata": {
        "id": "lUzUB50D8SHt",
        "colab": {
          "base_uri": "https://localhost:8080/"
        },
        "outputId": "b6c0bb89-1e65-4161-ccb3-301e97c182dd"
      },
      "execution_count": 9,
      "outputs": [
        {
          "output_type": "stream",
          "name": "stdout",
          "text": [
            "|--- feature_0 <= 50.50\n",
            "|   |--- class: Good\n",
            "|--- feature_0 >  50.50\n",
            "|   |--- feature_0 <= 100.50\n",
            "|   |   |--- class: Moderate\n",
            "|   |--- feature_0 >  100.50\n",
            "|   |   |--- feature_0 <= 150.50\n",
            "|   |   |   |--- class: Unhealthy for Sensitive Groups\n",
            "|   |   |--- feature_0 >  150.50\n",
            "|   |   |   |--- class: Unhealthy\n",
            "\n"
          ]
        }
      ]
    },
    {
      "cell_type": "markdown",
      "source": [
        "## Check Accuracy\n",
        "\n",
        "What is the accuracy of the money_tree? Use these steps to calculate accuracy.\n",
        "\n",
        "Is this over fitted?"
      ],
      "metadata": {
        "id": "sSNfQKZA3jg2"
      }
    },
    {
      "cell_type": "code",
      "metadata": {
        "id": "eVOSIP8SeYg3",
        "colab": {
          "base_uri": "https://localhost:8080/"
        },
        "outputId": "a804de9f-9e48-4b58-be27-cc4f43d0f7da"
      },
      "source": [
        "pred = AQI_model.predict(x)\n",
        "\n",
        "#print(pred)\n",
        "\n",
        "print(\"Accuracy:\",metrics.accuracy_score(y, pred))"
      ],
      "execution_count": 10,
      "outputs": [
        {
          "output_type": "stream",
          "name": "stdout",
          "text": [
            "Accuracy: 1.0\n"
          ]
        }
      ]
    },
    {
      "cell_type": "markdown",
      "source": [
        "## Prune the tree\n",
        "\n",
        "Limit the number of levels to 2"
      ],
      "metadata": {
        "id": "bLm9U6FV5XB2"
      }
    },
    {
      "cell_type": "code",
      "source": [
        "AQI_model2 = DecisionTreeClassifier(criterion=\"entropy\", max_depth=4)\n",
        "\n",
        "# Create Decision Tree Classifer\n",
        "AQI_model2 = AQI_model2.fit(x,y)\n"
      ],
      "metadata": {
        "id": "eVaCrCeU5kmt"
      },
      "execution_count": 11,
      "outputs": []
    },
    {
      "cell_type": "markdown",
      "source": [
        "## Preview the new tree"
      ],
      "metadata": {
        "id": "kmKO3QVT8apE"
      }
    },
    {
      "cell_type": "code",
      "source": [
        "AQI_model2_text = tree.export_text(AQI_model2)\n",
        "print(AQI_model2_text)"
      ],
      "metadata": {
        "id": "83PSEPJd8e3i",
        "colab": {
          "base_uri": "https://localhost:8080/"
        },
        "outputId": "1055ecff-87d9-46e7-d226-dc4f85d0ce8b"
      },
      "execution_count": 12,
      "outputs": [
        {
          "output_type": "stream",
          "name": "stdout",
          "text": [
            "|--- feature_0 <= 50.50\n",
            "|   |--- class: Good\n",
            "|--- feature_0 >  50.50\n",
            "|   |--- feature_0 <= 100.50\n",
            "|   |   |--- class: Moderate\n",
            "|   |--- feature_0 >  100.50\n",
            "|   |   |--- feature_0 <= 150.50\n",
            "|   |   |   |--- class: Unhealthy for Sensitive Groups\n",
            "|   |   |--- feature_0 >  150.50\n",
            "|   |   |   |--- class: Unhealthy\n",
            "\n"
          ]
        }
      ]
    },
    {
      "cell_type": "markdown",
      "source": [
        "## Re-Check Accuracy\n",
        "\n",
        "Is this accuracy better than making a random guess?  (check the distribution above)"
      ],
      "metadata": {
        "id": "KqK2LiaU7K1e"
      }
    },
    {
      "cell_type": "code",
      "source": [
        "pred = AQI_model2.predict(x)\n",
        "\n",
        "print(\"Accuracy:\",metrics.accuracy_score(y, pred))"
      ],
      "metadata": {
        "id": "C2WGouWs6L5d",
        "colab": {
          "base_uri": "https://localhost:8080/"
        },
        "outputId": "3b37600a-0471-41df-8287-7da2e95dac33"
      },
      "execution_count": 13,
      "outputs": [
        {
          "output_type": "stream",
          "name": "stdout",
          "text": [
            "Accuracy: 1.0\n"
          ]
        }
      ]
    },
    {
      "cell_type": "markdown",
      "source": [
        "## Visualize the model"
      ],
      "metadata": {
        "id": "tYqqwO1l3e5l"
      }
    },
    {
      "cell_type": "code",
      "source": [
        "from six import StringIO\n",
        "from IPython.display import Image  \n",
        "import pydotplus\n",
        "\n",
        "\n",
        "dot_data = StringIO()\n",
        "export_graphviz(money_tree2, out_file=dot_data, \n",
        "                   feature_names=x.columns,class_names=['Good','Moderate'], \n",
        "                   filled=True,rounded=True, precision =2)\n",
        "\n",
        "graph=pydotplus.graph_from_dot_data(dot_data.getvalue())\n",
        "Image(graph.create_png())"
      ],
      "metadata": {
        "id": "yj--WKic3c_x",
        "colab": {
          "base_uri": "https://localhost:8080/",
          "height": 239
        },
        "outputId": "3a6a3f86-20bd-46b2-9c17-4c9310292105"
      },
      "execution_count": 14,
      "outputs": [
        {
          "output_type": "error",
          "ename": "NameError",
          "evalue": "ignored",
          "traceback": [
            "\u001b[0;31m---------------------------------------------------------------------------\u001b[0m",
            "\u001b[0;31mNameError\u001b[0m                                 Traceback (most recent call last)",
            "\u001b[0;32m<ipython-input-14-8d80e3e6fa4b>\u001b[0m in \u001b[0;36m<cell line: 7>\u001b[0;34m()\u001b[0m\n\u001b[1;32m      5\u001b[0m \u001b[0;34m\u001b[0m\u001b[0m\n\u001b[1;32m      6\u001b[0m \u001b[0mdot_data\u001b[0m \u001b[0;34m=\u001b[0m \u001b[0mStringIO\u001b[0m\u001b[0;34m(\u001b[0m\u001b[0;34m)\u001b[0m\u001b[0;34m\u001b[0m\u001b[0;34m\u001b[0m\u001b[0m\n\u001b[0;32m----> 7\u001b[0;31m export_graphviz(money_tree2, out_file=dot_data, \n\u001b[0m\u001b[1;32m      8\u001b[0m                    \u001b[0mfeature_names\u001b[0m\u001b[0;34m=\u001b[0m\u001b[0mx\u001b[0m\u001b[0;34m.\u001b[0m\u001b[0mcolumns\u001b[0m\u001b[0;34m,\u001b[0m\u001b[0mclass_names\u001b[0m\u001b[0;34m=\u001b[0m\u001b[0;34m[\u001b[0m\u001b[0;34m'Good'\u001b[0m\u001b[0;34m,\u001b[0m\u001b[0;34m'Moderate'\u001b[0m\u001b[0;34m]\u001b[0m\u001b[0;34m,\u001b[0m\u001b[0;34m\u001b[0m\u001b[0;34m\u001b[0m\u001b[0m\n\u001b[1;32m      9\u001b[0m                    filled=True,rounded=True, precision =2)\n",
            "\u001b[0;31mNameError\u001b[0m: name 'money_tree2' is not defined"
          ]
        }
      ]
    },
    {
      "cell_type": "markdown",
      "source": [
        "## Fit a full tree model\n",
        "\n",
        "Use all of the independent attributes.  We'll call this the \"full tree.\" \n",
        "\n",
        "What is the accuracy of the full tree? "
      ],
      "metadata": {
        "id": "oKoXf3kkJVmm"
      }
    },
    {
      "cell_type": "code",
      "metadata": {
        "id": "SFOTNW70MbI9",
        "colab": {
          "base_uri": "https://localhost:8080/",
          "height": 443
        },
        "outputId": "e8a9e409-cba4-4b32-c4af-918687f6c382"
      },
      "source": [
        "# split the datafram into independent (x) and dependent (predicted) attributes (y)\n",
        "x = df_clean[['income','house','college','overage','leftover','handset_price','over_15mins_calls_per_month','average_call_duration','reported_satisfaction','reported_usage_level','considering_change_of_plan']]\n",
        "y = df_clean['leave']\n",
        "\n",
        "full_tree = DecisionTreeClassifier(criterion=\"entropy\", max_depth=1)\n",
        "\n",
        "# Create Decision Tree Classifer\n",
        "full_tree = full_tree.fit(x,y)\n"
      ],
      "execution_count": 15,
      "outputs": [
        {
          "output_type": "error",
          "ename": "KeyError",
          "evalue": "ignored",
          "traceback": [
            "\u001b[0;31m---------------------------------------------------------------------------\u001b[0m",
            "\u001b[0;31mKeyError\u001b[0m                                  Traceback (most recent call last)",
            "\u001b[0;32m<ipython-input-15-3357f4a5e5fc>\u001b[0m in \u001b[0;36m<cell line: 2>\u001b[0;34m()\u001b[0m\n\u001b[1;32m      1\u001b[0m \u001b[0;31m# split the datafram into independent (x) and dependent (predicted) attributes (y)\u001b[0m\u001b[0;34m\u001b[0m\u001b[0;34m\u001b[0m\u001b[0m\n\u001b[0;32m----> 2\u001b[0;31m \u001b[0mx\u001b[0m \u001b[0;34m=\u001b[0m \u001b[0mdf_clean\u001b[0m\u001b[0;34m[\u001b[0m\u001b[0;34m[\u001b[0m\u001b[0;34m'income'\u001b[0m\u001b[0;34m,\u001b[0m\u001b[0;34m'house'\u001b[0m\u001b[0;34m,\u001b[0m\u001b[0;34m'college'\u001b[0m\u001b[0;34m,\u001b[0m\u001b[0;34m'overage'\u001b[0m\u001b[0;34m,\u001b[0m\u001b[0;34m'leftover'\u001b[0m\u001b[0;34m,\u001b[0m\u001b[0;34m'handset_price'\u001b[0m\u001b[0;34m,\u001b[0m\u001b[0;34m'over_15mins_calls_per_month'\u001b[0m\u001b[0;34m,\u001b[0m\u001b[0;34m'average_call_duration'\u001b[0m\u001b[0;34m,\u001b[0m\u001b[0;34m'reported_satisfaction'\u001b[0m\u001b[0;34m,\u001b[0m\u001b[0;34m'reported_usage_level'\u001b[0m\u001b[0;34m,\u001b[0m\u001b[0;34m'considering_change_of_plan'\u001b[0m\u001b[0;34m]\u001b[0m\u001b[0;34m]\u001b[0m\u001b[0;34m\u001b[0m\u001b[0;34m\u001b[0m\u001b[0m\n\u001b[0m\u001b[1;32m      3\u001b[0m \u001b[0my\u001b[0m \u001b[0;34m=\u001b[0m \u001b[0mdf_clean\u001b[0m\u001b[0;34m[\u001b[0m\u001b[0;34m'leave'\u001b[0m\u001b[0;34m]\u001b[0m\u001b[0;34m\u001b[0m\u001b[0;34m\u001b[0m\u001b[0m\n\u001b[1;32m      4\u001b[0m \u001b[0;34m\u001b[0m\u001b[0m\n\u001b[1;32m      5\u001b[0m \u001b[0mfull_tree\u001b[0m \u001b[0;34m=\u001b[0m \u001b[0mDecisionTreeClassifier\u001b[0m\u001b[0;34m(\u001b[0m\u001b[0mcriterion\u001b[0m\u001b[0;34m=\u001b[0m\u001b[0;34m\"entropy\"\u001b[0m\u001b[0;34m,\u001b[0m \u001b[0mmax_depth\u001b[0m\u001b[0;34m=\u001b[0m\u001b[0;36m1\u001b[0m\u001b[0;34m)\u001b[0m\u001b[0;34m\u001b[0m\u001b[0;34m\u001b[0m\u001b[0m\n",
            "\u001b[0;32m/usr/local/lib/python3.9/dist-packages/pandas/core/frame.py\u001b[0m in \u001b[0;36m__getitem__\u001b[0;34m(self, key)\u001b[0m\n\u001b[1;32m   3509\u001b[0m             \u001b[0;32mif\u001b[0m \u001b[0mis_iterator\u001b[0m\u001b[0;34m(\u001b[0m\u001b[0mkey\u001b[0m\u001b[0;34m)\u001b[0m\u001b[0;34m:\u001b[0m\u001b[0;34m\u001b[0m\u001b[0;34m\u001b[0m\u001b[0m\n\u001b[1;32m   3510\u001b[0m                 \u001b[0mkey\u001b[0m \u001b[0;34m=\u001b[0m \u001b[0mlist\u001b[0m\u001b[0;34m(\u001b[0m\u001b[0mkey\u001b[0m\u001b[0;34m)\u001b[0m\u001b[0;34m\u001b[0m\u001b[0;34m\u001b[0m\u001b[0m\n\u001b[0;32m-> 3511\u001b[0;31m             \u001b[0mindexer\u001b[0m \u001b[0;34m=\u001b[0m \u001b[0mself\u001b[0m\u001b[0;34m.\u001b[0m\u001b[0mcolumns\u001b[0m\u001b[0;34m.\u001b[0m\u001b[0m_get_indexer_strict\u001b[0m\u001b[0;34m(\u001b[0m\u001b[0mkey\u001b[0m\u001b[0;34m,\u001b[0m \u001b[0;34m\"columns\"\u001b[0m\u001b[0;34m)\u001b[0m\u001b[0;34m[\u001b[0m\u001b[0;36m1\u001b[0m\u001b[0;34m]\u001b[0m\u001b[0;34m\u001b[0m\u001b[0;34m\u001b[0m\u001b[0m\n\u001b[0m\u001b[1;32m   3512\u001b[0m \u001b[0;34m\u001b[0m\u001b[0m\n\u001b[1;32m   3513\u001b[0m         \u001b[0;31m# take() does not accept boolean indexers\u001b[0m\u001b[0;34m\u001b[0m\u001b[0;34m\u001b[0m\u001b[0m\n",
            "\u001b[0;32m/usr/local/lib/python3.9/dist-packages/pandas/core/indexes/base.py\u001b[0m in \u001b[0;36m_get_indexer_strict\u001b[0;34m(self, key, axis_name)\u001b[0m\n\u001b[1;32m   5794\u001b[0m             \u001b[0mkeyarr\u001b[0m\u001b[0;34m,\u001b[0m \u001b[0mindexer\u001b[0m\u001b[0;34m,\u001b[0m \u001b[0mnew_indexer\u001b[0m \u001b[0;34m=\u001b[0m \u001b[0mself\u001b[0m\u001b[0;34m.\u001b[0m\u001b[0m_reindex_non_unique\u001b[0m\u001b[0;34m(\u001b[0m\u001b[0mkeyarr\u001b[0m\u001b[0;34m)\u001b[0m\u001b[0;34m\u001b[0m\u001b[0;34m\u001b[0m\u001b[0m\n\u001b[1;32m   5795\u001b[0m \u001b[0;34m\u001b[0m\u001b[0m\n\u001b[0;32m-> 5796\u001b[0;31m         \u001b[0mself\u001b[0m\u001b[0;34m.\u001b[0m\u001b[0m_raise_if_missing\u001b[0m\u001b[0;34m(\u001b[0m\u001b[0mkeyarr\u001b[0m\u001b[0;34m,\u001b[0m \u001b[0mindexer\u001b[0m\u001b[0;34m,\u001b[0m \u001b[0maxis_name\u001b[0m\u001b[0;34m)\u001b[0m\u001b[0;34m\u001b[0m\u001b[0;34m\u001b[0m\u001b[0m\n\u001b[0m\u001b[1;32m   5797\u001b[0m \u001b[0;34m\u001b[0m\u001b[0m\n\u001b[1;32m   5798\u001b[0m         \u001b[0mkeyarr\u001b[0m \u001b[0;34m=\u001b[0m \u001b[0mself\u001b[0m\u001b[0;34m.\u001b[0m\u001b[0mtake\u001b[0m\u001b[0;34m(\u001b[0m\u001b[0mindexer\u001b[0m\u001b[0;34m)\u001b[0m\u001b[0;34m\u001b[0m\u001b[0;34m\u001b[0m\u001b[0m\n",
            "\u001b[0;32m/usr/local/lib/python3.9/dist-packages/pandas/core/indexes/base.py\u001b[0m in \u001b[0;36m_raise_if_missing\u001b[0;34m(self, key, indexer, axis_name)\u001b[0m\n\u001b[1;32m   5854\u001b[0m                 \u001b[0;32mif\u001b[0m \u001b[0muse_interval_msg\u001b[0m\u001b[0;34m:\u001b[0m\u001b[0;34m\u001b[0m\u001b[0;34m\u001b[0m\u001b[0m\n\u001b[1;32m   5855\u001b[0m                     \u001b[0mkey\u001b[0m \u001b[0;34m=\u001b[0m \u001b[0mlist\u001b[0m\u001b[0;34m(\u001b[0m\u001b[0mkey\u001b[0m\u001b[0;34m)\u001b[0m\u001b[0;34m\u001b[0m\u001b[0;34m\u001b[0m\u001b[0m\n\u001b[0;32m-> 5856\u001b[0;31m                 \u001b[0;32mraise\u001b[0m \u001b[0mKeyError\u001b[0m\u001b[0;34m(\u001b[0m\u001b[0;34mf\"None of [{key}] are in the [{axis_name}]\"\u001b[0m\u001b[0;34m)\u001b[0m\u001b[0;34m\u001b[0m\u001b[0;34m\u001b[0m\u001b[0m\n\u001b[0m\u001b[1;32m   5857\u001b[0m \u001b[0;34m\u001b[0m\u001b[0m\n\u001b[1;32m   5858\u001b[0m             \u001b[0mnot_found\u001b[0m \u001b[0;34m=\u001b[0m \u001b[0mlist\u001b[0m\u001b[0;34m(\u001b[0m\u001b[0mensure_index\u001b[0m\u001b[0;34m(\u001b[0m\u001b[0mkey\u001b[0m\u001b[0;34m)\u001b[0m\u001b[0;34m[\u001b[0m\u001b[0mmissing_mask\u001b[0m\u001b[0;34m.\u001b[0m\u001b[0mnonzero\u001b[0m\u001b[0;34m(\u001b[0m\u001b[0;34m)\u001b[0m\u001b[0;34m[\u001b[0m\u001b[0;36m0\u001b[0m\u001b[0;34m]\u001b[0m\u001b[0;34m]\u001b[0m\u001b[0;34m.\u001b[0m\u001b[0munique\u001b[0m\u001b[0;34m(\u001b[0m\u001b[0;34m)\u001b[0m\u001b[0;34m)\u001b[0m\u001b[0;34m\u001b[0m\u001b[0;34m\u001b[0m\u001b[0m\n",
            "\u001b[0;31mKeyError\u001b[0m: \"None of [Index(['income', 'house', 'college', 'overage', 'leftover', 'handset_price',\\n       'over_15mins_calls_per_month', 'average_call_duration',\\n       'reported_satisfaction', 'reported_usage_level',\\n       'considering_change_of_plan'],\\n      dtype='object')] are in the [columns]\""
          ]
        }
      ]
    },
    {
      "cell_type": "markdown",
      "source": [
        "##Visualize the full tree"
      ],
      "metadata": {
        "id": "qkDk8JG8n_W9"
      }
    },
    {
      "cell_type": "code",
      "source": [
        "from six import StringIO\n",
        "from IPython.display import Image  \n",
        "import pydotplus\n",
        "\n",
        "dot_data = StringIO()\n",
        "export_graphviz(full_tree, out_file=dot_data, \n",
        "                   feature_names=x.columns,class_names=['leave','stay'], \n",
        "                   filled=True,rounded=True, precision =2)\n",
        "\n",
        "graph=pydotplus.graph_from_dot_data(dot_data.getvalue())\n",
        "Image(graph.create_png())"
      ],
      "metadata": {
        "id": "nFvB1n-_oBV6"
      },
      "execution_count": null,
      "outputs": []
    },
    {
      "cell_type": "markdown",
      "source": [
        "## Check Accuracy"
      ],
      "metadata": {
        "id": "m-ZyMMzIMrba"
      }
    },
    {
      "cell_type": "code",
      "source": [
        "pred = full_tree.predict(x)\n",
        "\n",
        "#print(pred)\n",
        "\n",
        "print(\"Accuracy:\",metrics.accuracy_score(y, pred))"
      ],
      "metadata": {
        "id": "Tzn8iS8hMtvQ"
      },
      "execution_count": null,
      "outputs": []
    },
    {
      "cell_type": "markdown",
      "source": [
        "##Test and Train\n",
        "Now we will split the dataset into 80% training data and 20% test data"
      ],
      "metadata": {
        "id": "phFKD8KKmgkF"
      }
    },
    {
      "cell_type": "code",
      "source": [
        "x_train, x_test, y_train, y_test = train_test_split(x, y, test_size=0.2)"
      ],
      "metadata": {
        "id": "77_0IJBRmuFT"
      },
      "execution_count": null,
      "outputs": []
    },
    {
      "cell_type": "markdown",
      "source": [
        "##Create a new tree using only training data"
      ],
      "metadata": {
        "id": "ZcjFH-MBnaml"
      }
    },
    {
      "cell_type": "code",
      "source": [
        "train_tree = DecisionTreeClassifier(criterion=\"entropy\", max_depth=5)\n",
        "\n",
        "# Create Decision Tree Classifer\n",
        "train_tree = train_tree.fit(x_train,y_train)"
      ],
      "metadata": {
        "id": "ZS66hDodnmIX"
      },
      "execution_count": null,
      "outputs": []
    },
    {
      "cell_type": "markdown",
      "source": [
        "##Apply the new tree to our test data"
      ],
      "metadata": {
        "id": "meDBr2fatOqF"
      }
    },
    {
      "cell_type": "code",
      "source": [
        "pred = train_tree.predict(x_test)\n",
        "print(\"Accuracy:\",metrics.accuracy_score(y_test, pred))"
      ],
      "metadata": {
        "id": "UneJift1nxVb"
      },
      "execution_count": null,
      "outputs": []
    },
    {
      "cell_type": "markdown",
      "source": [
        "## Visualize the trained tree"
      ],
      "metadata": {
        "id": "uYl-WnlrNBbr"
      }
    },
    {
      "cell_type": "code",
      "source": [
        "from six import StringIO\n",
        "from IPython.display import Image  \n",
        "import pydotplus\n",
        "\n",
        "dot_data = StringIO()\n",
        "export_graphviz(train_tree, out_file=dot_data, \n",
        "                   feature_names=x.columns,class_names=['leave','stay'], \n",
        "                   filled=True,rounded=True, precision =2)\n",
        "\n",
        "graph=pydotplus.graph_from_dot_data(dot_data.getvalue())\n",
        "Image(graph.create_png())"
      ],
      "metadata": {
        "id": "JsdhyStgNEYy"
      },
      "execution_count": null,
      "outputs": []
    },
    {
      "cell_type": "markdown",
      "source": [
        "## Did the model improve?\n",
        "👎  👍"
      ],
      "metadata": {
        "id": "G0xA_kdGQ1Ln"
      }
    }
  ]
}